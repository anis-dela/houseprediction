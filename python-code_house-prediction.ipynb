{
  "nbformat": 4,
  "nbformat_minor": 0,
  "metadata": {
    "colab": {
      "provenance": []
    },
    "kernelspec": {
      "name": "python3",
      "display_name": "Python 3"
    },
    "language_info": {
      "name": "python"
    }
  },
  "cells": [
    {
      "cell_type": "markdown",
      "source": [
        "###Problem Statement"
      ],
      "metadata": {
        "id": "CCv0OGVbmtFN"
      }
    },
    {
      "cell_type": "markdown",
      "source": [
        "A real estate company that has a dataset containing the prices of properties in the Delhi region. It wishes to use the data to optimise the sale prices\n",
        "\n",
        "\n",
        "This company specifically considering area of the property and prefered area to choose\n",
        "However, they are open to the possibility that other variables may also affect the price of a home"
      ],
      "metadata": {
        "id": "8IRr-EFBm26n"
      }
    },
    {
      "cell_type": "markdown",
      "source": [
        "The data source that I'm using in this Analysis is from Kaggle : [Housing Price Prediction](https://www.kaggle.com/code/ashydv/housing-price-prediction-linear-regression)\n",
        "\n",
        "\n"
      ],
      "metadata": {
        "id": "8ZgGr9-3pE6U"
      }
    },
    {
      "cell_type": "markdown",
      "source": [
        "#Data Overview"
      ],
      "metadata": {
        "id": "PYEomaPZm3DB"
      }
    },
    {
      "cell_type": "code",
      "source": [
        "from google.colab import drive\n",
        "drive.mount('/content/drive')"
      ],
      "metadata": {
        "id": "4_DiNroXm3GD"
      },
      "execution_count": null,
      "outputs": []
    },
    {
      "cell_type": "code",
      "source": [
        "#Import library\n",
        "\n",
        "#Load data\n",
        "import pandas as pd\n",
        "import numpy as np\n",
        "\n",
        "#Visualization\n",
        "import matplotlib.pyplot as plt\n",
        "import seaborn as sns\n",
        "\n",
        "#Modelling\n",
        "import statsmodels.formula.api as smf\n",
        "\n",
        "#Statistics\n",
        "import scipy.stats as stats"
      ],
      "metadata": {
        "id": "jmXheIfpm3Ij"
      },
      "execution_count": null,
      "outputs": []
    },
    {
      "cell_type": "code",
      "source": [
        "housing = pd.read_csv(\"/content/drive/MyDrive/Pacmann/Project/Python Project/Linear Regression Project - Housing.csv\")\n",
        "housing.head(10)"
      ],
      "metadata": {
        "id": "6_cbFuYmm3LR"
      },
      "execution_count": null,
      "outputs": []
    },
    {
      "cell_type": "code",
      "source": [
        "#Get the information of rows & columns\n",
        "housing.shape"
      ],
      "metadata": {
        "id": "N6fNq_u8n__X"
      },
      "execution_count": null,
      "outputs": []
    },
    {
      "cell_type": "markdown",
      "source": [
        "- The data consists of 545 rows & 13 columns\n",
        "\n"
      ],
      "metadata": {
        "id": "hz0BaquUoFFO"
      }
    },
    {
      "cell_type": "code",
      "source": [
        "#Get the datatype in each columns\n",
        "housing.info()"
      ],
      "metadata": {
        "id": "Pskwf40FoAEx"
      },
      "execution_count": null,
      "outputs": []
    },
    {
      "cell_type": "markdown",
      "source": [
        "- From the info above, some data are considered as object. However, those data are stored in a categorical format. Therefore I would like to encode those data to numerical value in order to be processed"
      ],
      "metadata": {
        "id": "6p9QHTdxoAJe"
      }
    },
    {
      "cell_type": "code",
      "source": [
        "#Checking the number of unique object in each variables\n",
        "x = [\"mainroad\",\"guestroom\", \"basement\", \"hotwaterheating\", \"airconditioning\", \"prefarea\",\"furnishingstatus\"]\n",
        "\n",
        "for column in x:\n",
        "  unique_values = housing[column].unique()\n",
        "  print(f\"Unique values in '{column}':{unique_values}\")"
      ],
      "metadata": {
        "id": "3REkJWNEoAPH"
      },
      "execution_count": null,
      "outputs": []
    },
    {
      "cell_type": "code",
      "source": [
        "#Label encoding categorical data to numerical value\n",
        "housing['mainroad'] = housing['mainroad'].map({'yes':1, 'no':0})\n",
        "housing['guestroom'] = housing['guestroom'].map({'yes':1, 'no':0})\n",
        "housing['basement'] = housing['basement'].map({'yes':1, 'no':0})\n",
        "housing['hotwaterheating'] = housing['hotwaterheating'].map({'yes':1, 'no':0})\n",
        "housing['airconditioning'] = housing['airconditioning'].map({'yes':1, 'no':0})\n",
        "housing['prefarea'] = housing['prefarea'].map({'yes':1, 'no':0})\n",
        "housing['furnishingstatus'] = housing['furnishingstatus'].map({'unfurnished':1, 'semi-furnished':2, 'furnished':3})"
      ],
      "metadata": {
        "id": "Rj6TzjHZoAMp"
      },
      "execution_count": null,
      "outputs": []
    },
    {
      "cell_type": "code",
      "source": [
        "#Re-checking the data information\n",
        "housing.info()"
      ],
      "metadata": {
        "id": "vPKbkBJLoARb"
      },
      "execution_count": null,
      "outputs": []
    },
    {
      "cell_type": "markdown",
      "source": [
        "- all of the string datatype variables have turned into int64"
      ],
      "metadata": {
        "id": "DtpuRwadm4Qx"
      }
    },
    {
      "cell_type": "code",
      "source": [
        "#Missing Value\n",
        "missing_value = housing.isnull().sum()\n",
        "print(missing_value)"
      ],
      "metadata": {
        "id": "GicpgpTOoAT7"
      },
      "execution_count": null,
      "outputs": []
    },
    {
      "cell_type": "code",
      "source": [
        "#Outlier checking for numerical data\n",
        "fig, axs = plt.subplots(2, 3, figsize = (10,6))\n",
        "\n",
        "sns.boxplot(housing['price'], ax=axs[0, 0]).set_title('Price')\n",
        "sns.boxplot(housing['area'], ax=axs[0, 1]).set_title('Area')\n",
        "sns.boxplot(housing['bedrooms'], ax=axs[0, 2]).set_title('Bedrooms')\n",
        "sns.boxplot(housing['bathrooms'], ax=axs[1, 0]).set_title('Bathrooms')\n",
        "sns.boxplot(housing['stories'], ax=axs[1, 1]).set_title('Stories')\n",
        "sns.boxplot(housing['parking'], ax=axs[1, 2]).set_title('Parking')\n",
        "\n",
        "plt.tight_layout()\n",
        "plt.show()"
      ],
      "metadata": {
        "id": "8SPn-z65oAWA"
      },
      "execution_count": null,
      "outputs": []
    },
    {
      "cell_type": "markdown",
      "source": [
        "- Quite a large amount of outlier in 'Price' and 'Area' metrics\n",
        "- However, other metrics have the potential of outliers due to each house property diversities, which make sense\n",
        "- Next, I'd like to cut off the outliers of 'Price' & 'Area' from the data"
      ],
      "metadata": {
        "id": "ulxlyGpS2Ysx"
      }
    },
    {
      "cell_type": "code",
      "source": [
        "#Cutting off Price column's outlier\n",
        "Q1 = housing['price'].quantile(0.25)\n",
        "Q3 = housing['price'].quantile(0.75)\n",
        "IQR = Q3-Q1\n",
        "lower_bound = Q1 - 1.5 * IQR\n",
        "upper_bound = Q3 + 1.5 * IQR\n",
        "#housing = housing[(housing['price']>= lower_bound) & (housing['price']<= upper_bound)]\n",
        "\n",
        "#Cutting off Area column's outlier\n",
        "Q1 = housing['area'].quantile(0.25)\n",
        "Q3 = housing['area'].quantile(0.75)\n",
        "IQR = Q3-Q1\n",
        "lower_bound = Q1 - 1.5 * IQR\n",
        "upper_bound = Q3 + 1.5 * IQR\n",
        "#housing = housing[(housing['area']>= lower_bound) & (housing['area']<= upper_bound)]"
      ],
      "metadata": {
        "id": "sj-zT7u82YwK"
      },
      "execution_count": null,
      "outputs": []
    },
    {
      "cell_type": "markdown",
      "source": [
        "#Visualization"
      ],
      "metadata": {
        "id": "tXtJoZlD2YzN"
      }
    },
    {
      "cell_type": "code",
      "source": [
        "#Correlation checking\n",
        "plt.figure(figsize=(10, 8))\n",
        "\n",
        "col = housing.columns\n",
        "heatmap = sns.heatmap(housing[col].corr(), vmin=-1, vmax=1, annot=True, cmap='BrBG')\n",
        "\n",
        "heatmap.set_title('Correlation Heatmap', fontdict={'fontsize':18}, pad=12);"
      ],
      "metadata": {
        "id": "iUh4TftY6OBH"
      },
      "execution_count": null,
      "outputs": []
    },
    {
      "cell_type": "markdown",
      "source": [
        "- By looking at the correlation, the variables that have quite high correlation with price are area and bathrooms\n",
        "- The other variables have lower than |0.5| correlation with price\n",
        "- Price and bathroom might significantly affecting the price, however we still want to know which variables create the best model"
      ],
      "metadata": {
        "id": "ABp06XgD6SC5"
      }
    },
    {
      "cell_type": "code",
      "source": [
        "#Visualization between all variables & price\n",
        "columns = ['area', 'bedrooms', 'bathrooms', 'stories', 'mainroad', 'guestroom',\n",
        "       'basement', 'hotwaterheating', 'airconditioning', 'parking', 'prefarea',\n",
        "       'furnishingstatus']\n",
        "\n",
        "fig, axes = plt.subplots(nrows=2, ncols=6, figsize=(14, 6))\n",
        "for i, ax in zip(columns, axes.flatten()):\n",
        "  sns.scatterplot(y = \"price\", x = i, data = housing, ax=ax)\n",
        "  ax.set_title(f\"House price & {i}\")\n",
        "\n",
        "plt.tight_layout()"
      ],
      "metadata": {
        "id": "PyBzcGsB7HQ9"
      },
      "execution_count": null,
      "outputs": []
    },
    {
      "cell_type": "code",
      "source": [
        "#Visualization boxplot between all variables & price (to see the median)\n",
        "columns = ['area', 'bedrooms', 'bathrooms', 'stories', 'mainroad', 'guestroom',\n",
        "       'basement', 'hotwaterheating', 'airconditioning', 'parking', 'prefarea',\n",
        "       'furnishingstatus']\n",
        "\n",
        "fig, axes = plt.subplots(nrows=2, ncols=6, figsize=(14, 5))\n",
        "for i, ax in zip(columns, axes.flatten()):\n",
        "  sns.boxplot(y = \"price\", x = i, data = housing, ax=ax)\n",
        "  ax.set_title(f\"House price & {i}\")\n",
        "\n",
        "plt.tight_layout()"
      ],
      "metadata": {
        "id": "mD0OatUbDe46"
      },
      "execution_count": null,
      "outputs": []
    },
    {
      "cell_type": "markdown",
      "source": [
        "- all variables tend to have a positive relation, which shown the higher the variables value, the house price will also become higher"
      ],
      "metadata": {
        "id": "6nzCXy1aD-iu"
      }
    },
    {
      "cell_type": "markdown",
      "source": [
        "#Create Model"
      ],
      "metadata": {
        "id": "99L177qm2h05"
      }
    },
    {
      "cell_type": "markdown",
      "source": [
        "- Wanted to create a regression model with area and prefarea"
      ],
      "metadata": {
        "id": "lPSgSClW2vJB"
      }
    },
    {
      "cell_type": "markdown",
      "source": [
        "###Model 1"
      ],
      "metadata": {
        "id": "cwR4jrse2vLs"
      }
    },
    {
      "cell_type": "code",
      "source": [
        "def print_coef_std_err(results):\n",
        "  coef = results.params\n",
        "  std_err = results.bse\n",
        "\n",
        "  df = pd.DataFrame(data = np.transpose([coef, std_err]),\n",
        "                    index = coef.index,\n",
        "                    columns = [\"coef\", \"std err\"])\n",
        "\n",
        "  return df"
      ],
      "metadata": {
        "id": "JCW9pPo42vNt"
      },
      "execution_count": null,
      "outputs": []
    },
    {
      "cell_type": "code",
      "source": [
        "#Create OLS model object\n",
        "model = smf.ols(\"price ~ area\", housing)\n",
        "\n",
        "#Fit model\n",
        "results = model.fit()\n",
        "\n",
        "# Extract the results (Coefficient and Standard Error) to DataFrame\n",
        "coff_stderr = print_coef_std_err(results)\n",
        "coff_stderr"
      ],
      "metadata": {
        "id": "2p93t1Dj2vQF"
      },
      "execution_count": null,
      "outputs": []
    },
    {
      "cell_type": "markdown",
      "source": [
        "$$\\text{price} = 2,387,308 + 461.97\\text{area}$$\n",
        "---"
      ],
      "metadata": {
        "id": "wbqGW4y32h34"
      }
    },
    {
      "cell_type": "markdown",
      "source": [
        "$$\\text{price} = 2,387,308 + 461.97\\text{area}$$\n",
        "---\n",
        "\n"
      ],
      "metadata": {
        "id": "gc6LWGx52h55"
      }
    },
    {
      "cell_type": "markdown",
      "source": [
        "- If the area is 0, then the price will be 2.3mio\n",
        "- If there is an increment in the area by 1, then there will be additional 461.97 in the price"
      ],
      "metadata": {
        "id": "2rfpl_yzpzDi"
      }
    },
    {
      "cell_type": "code",
      "source": [
        "area = 100\n",
        "price = 2387308 + 461.97*area\n",
        "price"
      ],
      "metadata": {
        "id": "gscozhfQpzHM"
      },
      "execution_count": null,
      "outputs": []
    },
    {
      "cell_type": "code",
      "source": [
        "area = 200\n",
        "price = 2387308 + 461.97*area\n",
        "price"
      ],
      "metadata": {
        "id": "2Xq5-S76pzKE"
      },
      "execution_count": null,
      "outputs": []
    },
    {
      "cell_type": "markdown",
      "source": [
        "####Plot Data & Estimated Line"
      ],
      "metadata": {
        "id": "3STlAdcvpzMy"
      }
    },
    {
      "cell_type": "code",
      "source": [
        "#Buat visualization untuk line estimation\n",
        "predictor = 'area'\n",
        "outcome = 'price'\n",
        "data = housing.copy()\n",
        "results_ = coff_stderr.copy()\n",
        "\n",
        "#Buat visualization antara price & area\n",
        "plt.scatter(housing['area'], housing['price'], color = 'orange')\n",
        "\n",
        "a_hat = results_.loc['Intercept']['coef']\n",
        "b_hat = results_.loc[predictor]['coef']\n",
        "x_domain = np.linspace(np.min(data[predictor]), np.max(data[predictor]), 1000)\n",
        "y_hat = a_hat + b_hat*x_domain\n",
        "plt.plot(x_domain, y_hat, color = 'black')\n",
        "\n",
        "plt.xlabel('Price')\n",
        "plt.ylabel('Area')\n",
        "plt.title('Price vs Area')"
      ],
      "metadata": {
        "id": "6cq6P_hepzPb"
      },
      "execution_count": null,
      "outputs": []
    },
    {
      "cell_type": "markdown",
      "source": [
        "- Because the data appears to exhibit increasing spread as the price increases, I want to check the assumption of homoscedasticity for the residuals\n",
        "- Does it meet the assumption of homoscedasticity?"
      ],
      "metadata": {
        "id": "c_jVvBpVpzSI"
      }
    },
    {
      "cell_type": "code",
      "source": [
        "plt.scatter(results.fittedvalues, results.resid, marker=\".\", c = \"k\")\n",
        "\n",
        "# Plot the horizontal line in 0 as the fitted line\n",
        "plt.axhline([0])\n",
        "\n",
        "plt.xlabel(\"predicted price\")\n",
        "plt.ylabel(\"residual\")\n",
        "plt.title(f\"Residuals vs. Predicted price\")"
      ],
      "metadata": {
        "id": "wrgL3HwcqWzE"
      },
      "execution_count": null,
      "outputs": []
    },
    {
      "cell_type": "markdown",
      "source": [
        "- The residuals are not random\n",
        "- Tend to have a pattern"
      ],
      "metadata": {
        "id": "lOqhFyuTqW3h"
      }
    },
    {
      "cell_type": "code",
      "source": [
        "###Normality of Error Assumption"
      ],
      "metadata": {
        "id": "3a5GxUOjqW7A"
      },
      "execution_count": null,
      "outputs": []
    },
    {
      "cell_type": "code",
      "source": [
        "plt.hist(results.resid, color='tab:blue', alpha=0.4)\n",
        "plt.xlabel(\"residual\")\n",
        "plt.ylabel(\"count\")\n",
        "\n",
        "plt.show()"
      ],
      "metadata": {
        "id": "SN0EOCJKumZ1"
      },
      "execution_count": null,
      "outputs": []
    },
    {
      "cell_type": "markdown",
      "source": [
        "- The residuals are skewed to the left, thus not normal"
      ],
      "metadata": {
        "id": "5aWkWSj_umc3"
      }
    },
    {
      "cell_type": "markdown",
      "source": [
        "###Model 2 - Weighted Least Square"
      ],
      "metadata": {
        "id": "rnsyxy3Oumfc"
      }
    },
    {
      "cell_type": "code",
      "source": [
        "weights_area = 1/(housing['area']**2)"
      ],
      "metadata": {
        "id": "WpMppHPPumhZ"
      },
      "execution_count": null,
      "outputs": []
    },
    {
      "cell_type": "code",
      "source": [
        "housing['weights_area']= weights_area"
      ],
      "metadata": {
        "id": "UAsPz5wHuw1D"
      },
      "execution_count": null,
      "outputs": []
    },
    {
      "cell_type": "code",
      "source": [
        "housing.sort_values(by = 'price')"
      ],
      "metadata": {
        "id": "6-hG7jTUuw4p"
      },
      "execution_count": null,
      "outputs": []
    },
    {
      "cell_type": "code",
      "source": [
        "#Create OLS model object\n",
        "model = smf.ols(\"price ~ weights_area\", housing)\n",
        "\n",
        "#Fit model\n",
        "results = model.fit()\n",
        "\n",
        "# Extract the results (Coefficient and Standard Error) to DataFrame\n",
        "coff_stderr = print_coef_std_err(results)\n",
        "coff_stderr"
      ],
      "metadata": {
        "id": "U_g-c6UAuw7B"
      },
      "execution_count": null,
      "outputs": []
    },
    {
      "cell_type": "code",
      "source": [
        "#Buat visualization untuk line estimation\n",
        "predictor = 'weights_area'\n",
        "outcome = 'price'\n",
        "data = housing.copy()\n",
        "results_ = coff_stderr.copy()\n",
        "\n",
        "#Buat visualization antara price & area\n",
        "plt.scatter(housing['weights_area'], housing['price'], color = 'orange')\n",
        "\n",
        "a_hat = results_.loc['Intercept']['coef']\n",
        "b_hat = results_.loc[predictor]['coef']\n",
        "x_domain = np.linspace(np.min(data[predictor]), np.max(data[predictor]), 1000)\n",
        "y_hat = a_hat + b_hat*x_domain\n",
        "plt.plot(x_domain, y_hat, color = 'black')\n",
        "\n",
        "plt.xlabel('Weighted Area')\n",
        "plt.ylabel('Price')\n",
        "plt.title('Price vs Area')"
      ],
      "metadata": {
        "id": "FO8S7iQEvddO"
      },
      "execution_count": null,
      "outputs": []
    },
    {
      "cell_type": "code",
      "source": [
        "results.summary()"
      ],
      "metadata": {
        "id": "8763BSc1vdgx"
      },
      "execution_count": null,
      "outputs": []
    },
    {
      "cell_type": "markdown",
      "source": [
        "- The accuracy is very low"
      ],
      "metadata": {
        "id": "USmHcryJvw32"
      }
    },
    {
      "cell_type": "markdown",
      "source": [
        "###Model 3 - Log Transform"
      ],
      "metadata": {
        "id": "6jeDcrOEvdjP"
      }
    },
    {
      "cell_type": "code",
      "source": [
        "housing['log_area'] = np.log(housing[\"area\"])\n",
        "housing.head(3)"
      ],
      "metadata": {
        "id": "yLy36vfYvdlh"
      },
      "execution_count": null,
      "outputs": []
    },
    {
      "cell_type": "code",
      "source": [
        "#Create OLS model object\n",
        "model = smf.ols(\"price ~ log_area\", housing)\n",
        "\n",
        "#Fit model\n",
        "results = model.fit()\n",
        "\n",
        "# Extract the results (Coefficient and Standard Error) to DataFrame\n",
        "coff_stderr = print_coef_std_err(results)\n",
        "coff_stderr"
      ],
      "metadata": {
        "id": "HRUWBLh4v59P"
      },
      "execution_count": null,
      "outputs": []
    },
    {
      "cell_type": "code",
      "source": [
        "#Buat visualization untuk line estimation\n",
        "predictor = 'log_area'\n",
        "outcome = 'price'\n",
        "data = housing.copy()\n",
        "results_ = coff_stderr.copy()\n",
        "\n",
        "#Buat visualization antara price & area\n",
        "plt.scatter(housing['log_area'], housing['price'], color = 'orange')\n",
        "\n",
        "a_hat = results_.loc['Intercept']['coef']\n",
        "b_hat = results_.loc[predictor]['coef']\n",
        "x_domain = np.linspace(np.min(data[predictor]), np.max(data[predictor]), 1000)\n",
        "y_hat = a_hat + b_hat*x_domain\n",
        "plt.plot(x_domain, y_hat, color = 'black')\n",
        "\n",
        "plt.xlabel('Log Area')\n",
        "plt.ylabel('Price')\n",
        "plt.title('Price vs Area')"
      ],
      "metadata": {
        "id": "z5Sof0-Uv2-b"
      },
      "execution_count": null,
      "outputs": []
    },
    {
      "cell_type": "code",
      "source": [
        "results.summary()"
      ],
      "metadata": {
        "id": "PhhaoeRnv-Ow"
      },
      "execution_count": null,
      "outputs": []
    },
    {
      "cell_type": "code",
      "source": [
        "#Adding furnishing to the model\n",
        "#Create OLS model object\n",
        "model = smf.ols(\"price ~ log_area + furnishingstatus\", housing)\n",
        "\n",
        "#Fit model\n",
        "results_1 = model.fit()\n",
        "\n",
        "# Extract the results (Coefficient and Standard Error) to DataFrame\n",
        "coef_stderr_1 = print_coef_std_err(results_1)\n",
        "coef_stderr_1"
      ],
      "metadata": {
        "id": "AGb71pA6v3Bs"
      },
      "execution_count": null,
      "outputs": []
    },
    {
      "cell_type": "code",
      "source": [
        "results_1.summary()"
      ],
      "metadata": {
        "id": "OvtIHvjyv3EV"
      },
      "execution_count": null,
      "outputs": []
    },
    {
      "cell_type": "markdown",
      "source": [
        "###Model 4 - OLS with All Variables"
      ],
      "metadata": {
        "id": "EOK2GbUiwRFT"
      }
    },
    {
      "cell_type": "code",
      "source": [
        "#Create OLS model object\n",
        "model_all = smf.ols(\"price ~  area + bedrooms + bathrooms + stories + \\\n",
        "mainroad + guestroom + basement + hotwaterheating + airconditioning + parking + furnishingstatus\", housing)\n",
        "\n",
        "#Fit model\n",
        "results_all = model_all.fit()\n",
        "results_all.summary()"
      ],
      "metadata": {
        "id": "CpraDkKjwT7q"
      },
      "execution_count": null,
      "outputs": []
    },
    {
      "cell_type": "markdown",
      "source": [
        "- eliminate the variables that have p-value > 0.05"
      ],
      "metadata": {
        "id": "RJCLZsn4xB6D"
      }
    },
    {
      "cell_type": "code",
      "source": [
        "#Create OLS model object\n",
        "model_all = smf.ols(\"price ~  area + bathrooms + stories + \\\n",
        "mainroad + basement + hotwaterheating + airconditioning + parking + furnishingstatus\", housing)\n",
        "\n",
        "#Fit model\n",
        "results_all = model_all.fit()\n",
        "results_all.summary()"
      ],
      "metadata": {
        "id": "SK8sRB5Pw9Bz"
      },
      "execution_count": null,
      "outputs": []
    }
  ]
}
